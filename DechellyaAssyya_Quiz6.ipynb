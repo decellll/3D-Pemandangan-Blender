{
  "nbformat": 4,
  "nbformat_minor": 0,
  "metadata": {
    "colab": {
      "provenance": [],
      "authorship_tag": "ABX9TyPVzeFZH8cV3CCdRebJd85z",
      "include_colab_link": true
    },
    "kernelspec": {
      "name": "python3",
      "display_name": "Python 3"
    },
    "language_info": {
      "name": "python"
    }
  },
  "cells": [
    {
      "cell_type": "markdown",
      "metadata": {
        "id": "view-in-github",
        "colab_type": "text"
      },
      "source": [
        "<a href=\"https://colab.research.google.com/github/decellll/3D-Pemandangan-Blender/blob/main/DechellyaAssyya_Quiz6.ipynb\" target=\"_parent\"><img src=\"https://colab.research.google.com/assets/colab-badge.svg\" alt=\"Open In Colab\"/></a>"
      ]
    },
    {
      "cell_type": "code",
      "execution_count": null,
      "metadata": {
        "id": "WS2kX4fKfA31"
      },
      "outputs": [],
      "source": [
        "from numpy import *\n",
        "from matplotlib.pyplot import *\n",
        "from IPython.display import Math\n",
        "import sympy as sym\n",
        "from numpy.linalg import *"
      ]
    },
    {
      "cell_type": "code",
      "source": [
        "# Aplikasi Model Rantai Markov 2\n",
        "# Pemilih Parpol A dan B\n",
        "C = np.array([[0.55, 0.45], [0.55, 0.45]])\n",
        "print(\"Matriks C=\")\n",
        "display(Math(sym.latex(sym.simplify(C))))\n"
      ],
      "metadata": {
        "colab": {
          "base_uri": "https://localhost:8080/",
          "height": 76
        },
        "id": "kXvqgS6dgD6x",
        "outputId": "55f2f0c0-7fb0-4835-af23-169f9e030def"
      },
      "execution_count": null,
      "outputs": [
        {
          "output_type": "stream",
          "name": "stdout",
          "text": [
            "Matriks C=\n"
          ]
        },
        {
          "output_type": "display_data",
          "data": {
            "text/plain": [
              "<IPython.core.display.Math object>"
            ],
            "text/latex": "$\\displaystyle \\left[\\begin{matrix}0.55 & 0.45\\\\0.55 & 0.45\\end{matrix}\\right]$"
          },
          "metadata": {}
        }
      ]
    },
    {
      "cell_type": "code",
      "source": [
        "#Prediksi tahun ke-3\n",
        "C1=dot(C0,C)\n",
        "print(\"matriks C1 = \")\n",
        "display(Math(sym.latex(sym.simplify(C1))))"
      ],
      "metadata": {
        "colab": {
          "base_uri": "https://localhost:8080/",
          "height": 56
        },
        "id": "LVYLf6D7hA0-",
        "outputId": "b8f5bbae-10aa-486c-de3e-6a2c09ce97d5"
      },
      "execution_count": null,
      "outputs": [
        {
          "output_type": "stream",
          "name": "stdout",
          "text": [
            "matriks C1 = \n"
          ]
        },
        {
          "output_type": "display_data",
          "data": {
            "text/plain": [
              "<IPython.core.display.Math object>"
            ],
            "text/latex": "$\\displaystyle \\left[\\begin{matrix}0.55 & 0.45\\end{matrix}\\right]$"
          },
          "metadata": {}
        }
      ]
    },
    {
      "cell_type": "code",
      "source": [
        "#Prediksi tahun ke-4\n",
        "C_2=dot(C,C)\n",
        "print(\"matriks C2 = \")\n",
        "C2=dot(C0,C_2)\n",
        "display(Math(sym.latex(sym.simplify(C2))))"
      ],
      "metadata": {
        "colab": {
          "base_uri": "https://localhost:8080/",
          "height": 56
        },
        "id": "oKAO6CUUhVTQ",
        "outputId": "ba5c8e69-b09f-49b1-f4b8-b3e58229a126"
      },
      "execution_count": null,
      "outputs": [
        {
          "output_type": "stream",
          "name": "stdout",
          "text": [
            "matriks C2 = \n"
          ]
        },
        {
          "output_type": "display_data",
          "data": {
            "text/plain": [
              "<IPython.core.display.Math object>"
            ],
            "text/latex": "$\\displaystyle \\left[\\begin{matrix}0.55 & 0.45\\end{matrix}\\right]$"
          },
          "metadata": {}
        }
      ]
    },
    {
      "cell_type": "code",
      "source": [
        "#Prediksi tahun ke-5\n",
        "C_3=dot(C_2,C)\n",
        "print(\"matriks C3 = \")\n",
        "C3=dot(C0,C_3)\n",
        "display(Math(sym.latex(sym.simplify(C3))))"
      ],
      "metadata": {
        "colab": {
          "base_uri": "https://localhost:8080/",
          "height": 56
        },
        "id": "FHw2YVZGhhic",
        "outputId": "8d69897e-ea62-4115-8d2e-898b279f2ecb"
      },
      "execution_count": null,
      "outputs": [
        {
          "output_type": "stream",
          "name": "stdout",
          "text": [
            "matriks C3 = \n"
          ]
        },
        {
          "output_type": "display_data",
          "data": {
            "text/plain": [
              "<IPython.core.display.Math object>"
            ],
            "text/latex": "$\\displaystyle \\left[\\begin{matrix}0.55 & 0.45\\end{matrix}\\right]$"
          },
          "metadata": {}
        }
      ]
    },
    {
      "cell_type": "code",
      "source": [
        "#Prediksi tahun ke-6\n",
        "C_4=dot(C_3,C)\n",
        "print(\"matriks C4 = \")\n",
        "C4=dot(C0,C_4)\n",
        "display(Math(sym.latex(sym.simplify(C4))))"
      ],
      "metadata": {
        "colab": {
          "base_uri": "https://localhost:8080/",
          "height": 56
        },
        "id": "-ssf0Z6Fh7qO",
        "outputId": "1ae3d82c-131f-402f-d8ac-f41e439c7873"
      },
      "execution_count": null,
      "outputs": [
        {
          "output_type": "stream",
          "name": "stdout",
          "text": [
            "matriks C4 = \n"
          ]
        },
        {
          "output_type": "display_data",
          "data": {
            "text/plain": [
              "<IPython.core.display.Math object>"
            ],
            "text/latex": "$\\displaystyle \\left[\\begin{matrix}0.55 & 0.45\\end{matrix}\\right]$"
          },
          "metadata": {}
        }
      ]
    },
    {
      "cell_type": "code",
      "source": [
        "#Prediksi tahun ke-7\n",
        "C_5=dot(C_4,C)\n",
        "print(\"matriks C5 = \")\n",
        "C5=dot(C0,C_5)\n",
        "display(Math(sym.latex(sym.simplify(C5))))"
      ],
      "metadata": {
        "colab": {
          "base_uri": "https://localhost:8080/",
          "height": 56
        },
        "id": "uCUrjzDoiWD_",
        "outputId": "d59ed65e-b24c-4db2-db7d-896d47b5b82a"
      },
      "execution_count": null,
      "outputs": [
        {
          "output_type": "stream",
          "name": "stdout",
          "text": [
            "matriks C5 = \n"
          ]
        },
        {
          "output_type": "display_data",
          "data": {
            "text/plain": [
              "<IPython.core.display.Math object>"
            ],
            "text/latex": "$\\displaystyle \\left[\\begin{matrix}0.55 & 0.45\\end{matrix}\\right]$"
          },
          "metadata": {}
        }
      ]
    },
    {
      "cell_type": "code",
      "source": [
        "#Prediksi tahun ke-8\n",
        "C_6=dot(C_5,C)\n",
        "print(\"matriks C6 = \")\n",
        "C6=dot(C0,C_6)\n",
        "display(Math(sym.latex(sym.simplify(C6))))"
      ],
      "metadata": {
        "colab": {
          "base_uri": "https://localhost:8080/",
          "height": 56
        },
        "id": "q1ln1WcRim3M",
        "outputId": "2a525657-933f-4de4-8813-7583cce20431"
      },
      "execution_count": null,
      "outputs": [
        {
          "output_type": "stream",
          "name": "stdout",
          "text": [
            "matriks C6 = \n"
          ]
        },
        {
          "output_type": "display_data",
          "data": {
            "text/plain": [
              "<IPython.core.display.Math object>"
            ],
            "text/latex": "$\\displaystyle \\left[\\begin{matrix}0.55 & 0.45\\end{matrix}\\right]$"
          },
          "metadata": {}
        }
      ]
    },
    {
      "cell_type": "code",
      "source": [
        "#cek titik equilibrum (0.67,0.33)\n",
        "\n",
        "D=np.array([0.55,0.45])\n",
        "A=dot(D,C)\n",
        "display(Math(sym.latex(sym.simplify(A))))"
      ],
      "metadata": {
        "colab": {
          "base_uri": "https://localhost:8080/",
          "height": 38
        },
        "id": "LraQN0OritQN",
        "outputId": "3c016b0a-45e5-46bd-fdf8-974c5dd8c20c"
      },
      "execution_count": null,
      "outputs": [
        {
          "output_type": "display_data",
          "data": {
            "text/plain": [
              "<IPython.core.display.Math object>"
            ],
            "text/latex": "$\\displaystyle \\left[\\begin{matrix}0.55 & 0.45\\end{matrix}\\right]$"
          },
          "metadata": {}
        }
      ]
    },
    {
      "cell_type": "markdown",
      "source": [
        "Dari perhitungan probabilitas jangka panjang di atas didapatkan bahwa kondisi seimbang / stabil (Steady State) dihasilkan pada kondisi [0.55 0.45] dan stabil sejak rentan tahun 0 hingga tahun pertama."
      ],
      "metadata": {
        "id": "sGaQlB3lnTF5"
      }
    }
  ]
}